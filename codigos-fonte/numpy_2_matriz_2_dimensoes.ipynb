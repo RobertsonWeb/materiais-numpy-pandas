{
  "nbformat": 4,
  "nbformat_minor": 0,
  "metadata": {
    "colab": {
      "provenance": []
    },
    "kernelspec": {
      "name": "python3",
      "display_name": "Python 3"
    },
    "language_info": {
      "name": "python"
    }
  },
  "cells": [
    {
      "cell_type": "code",
      "execution_count": 1,
      "metadata": {
        "id": "huXJsNinzWs1"
      },
      "outputs": [],
      "source": [
        "import numpy as np"
      ]
    },
    {
      "cell_type": "code",
      "source": [
        "import numpy as np\n",
        "matriz = np.array(\n",
        "                    [\n",
        "                      [1, 2, 3],\n",
        "                      [4, 5, 6]\n",
        "                    ]\n",
        "                 )\n",
        "print(matriz)\n",
        "print(\"Shape:\", matriz.shape)\n",
        "print(\"Dimensões:\", matriz.ndim)"
      ],
      "metadata": {
        "colab": {
          "base_uri": "https://localhost:8080/"
        },
        "id": "gfpdiqbMzebw",
        "outputId": "4b814ed7-bcbe-49fe-8808-6118b835f64d"
      },
      "execution_count": 2,
      "outputs": [
        {
          "output_type": "stream",
          "name": "stdout",
          "text": [
            "[[1 2 3]\n",
            " [4 5 6]]\n",
            "Shape: (2, 3)\n",
            "Dimensões: 2\n"
          ]
        }
      ]
    }
  ]
}