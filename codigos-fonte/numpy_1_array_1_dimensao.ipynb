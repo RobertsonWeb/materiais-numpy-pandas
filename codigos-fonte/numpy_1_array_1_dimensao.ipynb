{
  "nbformat": 4,
  "nbformat_minor": 0,
  "metadata": {
    "colab": {
      "provenance": []
    },
    "kernelspec": {
      "name": "python3",
      "display_name": "Python 3"
    },
    "language_info": {
      "name": "python"
    }
  },
  "cells": [
    {
      "cell_type": "code",
      "execution_count": 2,
      "metadata": {
        "id": "qilMXMFxy_D5"
      },
      "outputs": [],
      "source": [
        "import numpy as np"
      ]
    },
    {
      "cell_type": "code",
      "source": [
        "vetor = np.array([10, 20, 30, 40])\n",
        "print(vetor)\n",
        "print(\"Shape:\", vetor.shape)\n",
        "print(\"Dimensões:\", vetor.ndim)"
      ],
      "metadata": {
        "colab": {
          "base_uri": "https://localhost:8080/"
        },
        "id": "BYxEOySGzCqx",
        "outputId": "e2aa5b38-9443-4ede-d8a4-912c5504ca7a"
      },
      "execution_count": 3,
      "outputs": [
        {
          "output_type": "stream",
          "name": "stdout",
          "text": [
            "[10 20 30 40]\n",
            "Shape: (4,)\n",
            "Dimensões: 1\n"
          ]
        }
      ]
    }
  ]
}