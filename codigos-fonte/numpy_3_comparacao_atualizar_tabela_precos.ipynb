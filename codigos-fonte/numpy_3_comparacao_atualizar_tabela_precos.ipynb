{
  "nbformat": 4,
  "nbformat_minor": 0,
  "metadata": {
    "colab": {
      "provenance": []
    },
    "kernelspec": {
      "name": "python3",
      "display_name": "Python 3"
    },
    "language_info": {
      "name": "python"
    }
  },
  "cells": [
    {
      "cell_type": "code",
      "execution_count": 1,
      "metadata": {
        "colab": {
          "base_uri": "https://localhost:8080/"
        },
        "id": "hiiB2WRj1-U7",
        "outputId": "de6d08fb-3cb2-4a8b-bddf-e7f0a6d632a8"
      },
      "outputs": [
        {
          "output_type": "stream",
          "name": "stdout",
          "text": [
            "CPU times: user 3 µs, sys: 1 µs, total: 4 µs\n",
            "Wall time: 6.91 µs\n",
            "[125.0, 110.0, 90.0, 28.75, 123.75, 375.0, 1250.0, 10000.0, 5000.0, 1248.75, 416.25, 1061.25, 971.25, 693.75, 555.0, 416.25, 277.5, 138.75]\n"
          ]
        }
      ],
      "source": [
        "#Mais lento, percorrendo item a item, por meio do laço de repetição for\n",
        "\n",
        "tabela_precos = [100, 88, 72, 23, 99, 300, 1000, 8000, 4000, 999, 333, 849, 777, 555, 444, 333, 222, 111]\n",
        "nova_tabela_precos = []\n",
        "%time\n",
        "for preco in tabela_precos:\n",
        "    novo_preco = preco * 1.25\n",
        "    nova_tabela_precos.append(novo_preco)\n",
        "print(nova_tabela_precos)"
      ]
    },
    {
      "cell_type": "code",
      "source": [
        "#Mais rápido, utilizando a estrutura ndarray do NumPy sem utilizar laço de repetição\n",
        "\n",
        "import numpy as np\n",
        "tabela_precos_2 = np.array([100, 88, 72, 23, 99, 300, 1000, 8000, 4000, 999, 333, 849, 777, 555, 444, 333, 222, 111])\n",
        "%time\n",
        "nova_tabela_precos_2 = tabela_precos_2 * 1.25\n",
        "print(nova_tabela_precos_2)"
      ],
      "metadata": {
        "colab": {
          "base_uri": "https://localhost:8080/"
        },
        "id": "_OJ93akb2XpW",
        "outputId": "881b01c2-18d1-4b95-d918-e1210d3c1a7e"
      },
      "execution_count": 2,
      "outputs": [
        {
          "output_type": "stream",
          "name": "stdout",
          "text": [
            "CPU times: user 2 µs, sys: 0 ns, total: 2 µs\n",
            "Wall time: 5.48 µs\n",
            "[  125.     110.      90.      28.75   123.75   375.    1250.   10000.\n",
            "  5000.    1248.75   416.25  1061.25   971.25   693.75   555.     416.25\n",
            "   277.5    138.75]\n"
          ]
        }
      ]
    }
  ]
}